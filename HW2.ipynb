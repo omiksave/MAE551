{
 "cells": [
  {
   "cell_type": "code",
   "execution_count": 5,
   "metadata": {
    "collapsed": true
   },
   "outputs": [],
   "source": [
    "import numpy as np\n",
    "import torch\n",
    "import pandas as pd\n",
    "import torch.nn as nn\n",
    "import torch.nn.functional as F"
   ]
  },
  {
   "cell_type": "code",
   "execution_count": 3,
   "outputs": [
    {
     "data": {
      "text/plain": "   Temperature (C)  Apparent Temperature (C)  Humidity  Visibility (km)  \\\n0         9.472222                  7.388889      0.89          15.8263   \n1         9.355556                  7.227778      0.86          15.8263   \n2         9.377778                  9.377778      0.89          14.9569   \n3         8.288889                  5.944444      0.83          15.8263   \n4         8.755556                  6.977778      0.83          15.8263   \n\n   Pressure (millibars)  \n0               1015.13  \n1               1015.63  \n2               1015.94  \n3               1016.41  \n4               1016.51  ",
      "text/html": "<div>\n<style scoped>\n    .dataframe tbody tr th:only-of-type {\n        vertical-align: middle;\n    }\n\n    .dataframe tbody tr th {\n        vertical-align: top;\n    }\n\n    .dataframe thead th {\n        text-align: right;\n    }\n</style>\n<table border=\"1\" class=\"dataframe\">\n  <thead>\n    <tr style=\"text-align: right;\">\n      <th></th>\n      <th>Temperature (C)</th>\n      <th>Apparent Temperature (C)</th>\n      <th>Humidity</th>\n      <th>Visibility (km)</th>\n      <th>Pressure (millibars)</th>\n    </tr>\n  </thead>\n  <tbody>\n    <tr>\n      <th>0</th>\n      <td>9.472222</td>\n      <td>7.388889</td>\n      <td>0.89</td>\n      <td>15.8263</td>\n      <td>1015.13</td>\n    </tr>\n    <tr>\n      <th>1</th>\n      <td>9.355556</td>\n      <td>7.227778</td>\n      <td>0.86</td>\n      <td>15.8263</td>\n      <td>1015.63</td>\n    </tr>\n    <tr>\n      <th>2</th>\n      <td>9.377778</td>\n      <td>9.377778</td>\n      <td>0.89</td>\n      <td>14.9569</td>\n      <td>1015.94</td>\n    </tr>\n    <tr>\n      <th>3</th>\n      <td>8.288889</td>\n      <td>5.944444</td>\n      <td>0.83</td>\n      <td>15.8263</td>\n      <td>1016.41</td>\n    </tr>\n    <tr>\n      <th>4</th>\n      <td>8.755556</td>\n      <td>6.977778</td>\n      <td>0.83</td>\n      <td>15.8263</td>\n      <td>1016.51</td>\n    </tr>\n  </tbody>\n</table>\n</div>"
     },
     "execution_count": 3,
     "metadata": {},
     "output_type": "execute_result"
    }
   ],
   "source": [
    "daf = pd.read_csv(\"C:/Users/osave/Downloads/HW1_P5_weatherHistory.csv\") #Importing the data\n",
    "df = pd.DataFrame(daf,columns=[\"Temperature (C)\",\"Apparent Temperature (C)\",\"Humidity\",\"Visibility (km)\",\"Pressure (millibars)\"])\n",
    "df.head()"
   ],
   "metadata": {
    "collapsed": false
   }
  },
  {
   "cell_type": "code",
   "execution_count": 4,
   "outputs": [
    {
     "data": {
      "text/plain": "   Temperature (C)  Apparent Temperature (C)  Humidity  Visibility (km)\n0         9.472222                  7.388889      0.89          15.8263\n1         9.355556                  7.227778      0.86          15.8263\n2         9.377778                  9.377778      0.89          14.9569\n3         8.288889                  5.944444      0.83          15.8263\n4         8.755556                  6.977778      0.83          15.8263",
      "text/html": "<div>\n<style scoped>\n    .dataframe tbody tr th:only-of-type {\n        vertical-align: middle;\n    }\n\n    .dataframe tbody tr th {\n        vertical-align: top;\n    }\n\n    .dataframe thead th {\n        text-align: right;\n    }\n</style>\n<table border=\"1\" class=\"dataframe\">\n  <thead>\n    <tr style=\"text-align: right;\">\n      <th></th>\n      <th>Temperature (C)</th>\n      <th>Apparent Temperature (C)</th>\n      <th>Humidity</th>\n      <th>Visibility (km)</th>\n    </tr>\n  </thead>\n  <tbody>\n    <tr>\n      <th>0</th>\n      <td>9.472222</td>\n      <td>7.388889</td>\n      <td>0.89</td>\n      <td>15.8263</td>\n    </tr>\n    <tr>\n      <th>1</th>\n      <td>9.355556</td>\n      <td>7.227778</td>\n      <td>0.86</td>\n      <td>15.8263</td>\n    </tr>\n    <tr>\n      <th>2</th>\n      <td>9.377778</td>\n      <td>9.377778</td>\n      <td>0.89</td>\n      <td>14.9569</td>\n    </tr>\n    <tr>\n      <th>3</th>\n      <td>8.288889</td>\n      <td>5.944444</td>\n      <td>0.83</td>\n      <td>15.8263</td>\n    </tr>\n    <tr>\n      <th>4</th>\n      <td>8.755556</td>\n      <td>6.977778</td>\n      <td>0.83</td>\n      <td>15.8263</td>\n    </tr>\n  </tbody>\n</table>\n</div>"
     },
     "execution_count": 4,
     "metadata": {},
     "output_type": "execute_result"
    }
   ],
   "source": [
    "df = df.drop(labels = \"Pressure (millibars)\",axis=1)\n",
    "df.head()"
   ],
   "metadata": {
    "collapsed": false
   }
  },
  {
   "cell_type": "code",
   "execution_count": 11,
   "outputs": [],
   "source": [
    "class net(nn.Module):\n",
    "    def __init__(self):\n",
    "        super().__init__()\n",
    "        self.sequential = nn.Sequential(nn.Linear(2,10),\n",
    "                                        nn.ReLU(),\n",
    "                                        nn.Linear(10,1),\n",
    "                                        nn.Tanh(),\n",
    "                                        nn.Linear(1,1))\n",
    "\n",
    "    def forward(self,x):\n",
    "        x = self.sequential(x)\n",
    "        return x"
   ],
   "metadata": {
    "collapsed": false
   }
  },
  {
   "cell_type": "code",
   "execution_count": 12,
   "outputs": [
    {
     "data": {
      "text/plain": "net(\n  (sequential): Sequential(\n    (0): Linear(in_features=2, out_features=10, bias=True)\n    (1): ReLU()\n    (2): Linear(in_features=10, out_features=1, bias=True)\n    (3): Tanh()\n    (4): Linear(in_features=1, out_features=1, bias=True)\n  )\n)"
     },
     "execution_count": 12,
     "metadata": {},
     "output_type": "execute_result"
    }
   ],
   "source": [
    "model = net()\n",
    "model"
   ],
   "metadata": {
    "collapsed": false
   }
  },
  {
   "cell_type": "code",
   "execution_count": null,
   "outputs": [],
   "source": [],
   "metadata": {
    "collapsed": false
   }
  }
 ],
 "metadata": {
  "kernelspec": {
   "display_name": "Python 3",
   "language": "python",
   "name": "python3"
  },
  "language_info": {
   "codemirror_mode": {
    "name": "ipython",
    "version": 2
   },
   "file_extension": ".py",
   "mimetype": "text/x-python",
   "name": "python",
   "nbconvert_exporter": "python",
   "pygments_lexer": "ipython2",
   "version": "2.7.6"
  }
 },
 "nbformat": 4,
 "nbformat_minor": 0
}
